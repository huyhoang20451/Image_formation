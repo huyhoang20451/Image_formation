{
 "cells": [
  {
   "cell_type": "code",
   "execution_count": 1,
   "metadata": {},
   "outputs": [],
   "source": [
    "import numpy as np\n",
    "import matplotlib.pyplot as plt"
   ]
  },
  {
   "cell_type": "code",
   "execution_count": 2,
   "metadata": {},
   "outputs": [],
   "source": [
    "#xây dựng transformation\n",
    "def draw_poly(points: np.array):\n",
    "    poly_closed = np.concatenate([points, points[:1]], axis=0)\n",
    "    plt.plot(poly_closed[:, 0], poly_closed[:, 1])\n",
    "\n",
    "def translation(points: np.array, tx: float, ty: float):\n",
    "    T = np.array([\n",
    "        [1, 0, tx],\n",
    "        [0, 1, ty],\n",
    "        [0, 0, 1]\n",
    "    ])\n",
    "    points_homogeneous = np.concatenate([points, np.ones((points.shape[0], 1))], axis=1)\n",
    "    points_translated = np.dot(T, points_homogeneous.T).T\n",
    "    return points_translated[:, :2]\n",
    "\n",
    "def rotate(points: np.array, theta: float):\n",
    "    T = np.array([\n",
    "        [np.cos(theta), -np.sin(theta), 0],\n",
    "        [np.sin(theta), np.cos(theta), 0],\n",
    "        [0, 0, 1]\n",
    "    ])\n",
    "    points_homogeneous = np.concatenate([points, np.ones((points.shape[0], 1))], axis=1)\n",
    "    points_rotated = np.dot(T, points_homogeneous.T).T\n",
    "    return points_rotated[:, :2]\n",
    "\n",
    "def scale(points: np.array, sx: float, sy: float) -> np.array:\n",
    "    T = np.array([\n",
    "        [sx, 0, 0],\n",
    "        [0, sy, 0],\n",
    "        [0, 0, 1]\n",
    "    ])\n",
    "    points_homogeneous = np.concatenate([points, np.ones((points.shape[0], 1))], axis=1)\n",
    "    points_scaled = np.dot(T, points_homogeneous.T).T\n",
    "    return points_scaled[:, :2]"
   ]
  },
  {
   "cell_type": "code",
   "execution_count": 4,
   "metadata": {},
   "outputs": [
    {
     "data": {
      "image/png": "[encoded data removed]",
      "text/plain": [
       "<Figure size 640x480 with 1 Axes>"
      ]
     },
     "metadata": {},
     "output_type": "display_data"
    }
   ],
   "source": [
    "rx, ry = 0.5, 1\n",
    "tx, ty = 2, 3.5\n",
    "theta = np.deg2rad(-30)\n",
    "sx, sy = 1.5, 3\n",
    "\n",
    "rec_points = np.array([[0, 0], [0, ry], [rx, ry], [rx, 0]])\n",
    "\n",
    "trans_rec = translation(rec_points, tx, ty)\n",
    "rotated_rec = rotate(rec_points, theta)\n",
    "scale_rec = scale(rec_points, sx, sy)\n",
    "similarity_rec = scale(rotate(translation(rec_points, tx, ty), theta), sx, sy)\n",
    "\n",
    "draw_poly(rec_points)\n",
    "draw_poly(trans_rec)\n",
    "draw_poly(rotated_rec)\n",
    "draw_poly(scale_rec)\n",
    "draw_poly(similarity_rec)"
   ]
  }
 ],
 "metadata": {
  "kernelspec": {
   "display_name": "Python 3",
   "language": "python",
   "name": "python3"
  },
  "language_info": {
   "codemirror_mode": {
    "name": "ipython",
    "version": 3
   },
   "file_extension": ".py",
   "mimetype": "text/x-python",
   "name": "python",
   "nbconvert_exporter": "python",
   "pygments_lexer": "ipython3",
   "version": "3.11.8"
  }
 },
 "nbformat": 4,
 "nbformat_minor": 2
}
